{
  "nbformat": 4,
  "nbformat_minor": 0,
  "metadata": {
    "colab": {
      "provenance": [],
      "include_colab_link": true
    },
    "kernelspec": {
      "name": "python3",
      "display_name": "Python 3"
    },
    "language_info": {
      "name": "python"
    }
  },
  "cells": [
    {
      "cell_type": "markdown",
      "metadata": {
        "id": "view-in-github",
        "colab_type": "text"
      },
      "source": [
        "<a href=\"https://colab.research.google.com/github/Rajtank22/Group_Lab/blob/main/AQI_Classification.ipynb\" target=\"_parent\"><img src=\"https://colab.research.google.com/assets/colab-badge.svg\" alt=\"Open In Colab\"/></a>"
      ]
    },
    {
      "cell_type": "code",
      "execution_count": null,
      "metadata": {
        "id": "zZd1m91t4LL_",
        "colab": {
          "base_uri": "https://localhost:8080/"
        },
        "outputId": "80911e86-c2f6-42ae-9a44-58a7978939d2"
      },
      "outputs": [
        {
          "output_type": "stream",
          "name": "stdout",
          "text": [
            "\u001b[K     |████████████████████████████████| 281.4 MB 44 kB/s \n",
            "\u001b[K     |████████████████████████████████| 199 kB 46.9 MB/s \n",
            "\u001b[?25h  Building wheel for pyspark (setup.py) ... \u001b[?25l\u001b[?25hdone\n"
          ]
        }
      ],
      "source": [
        "!apt-get install openjdk-8-jdk-headless -qq > /dev/null\n",
        "\n",
        "# install spark (change the version number if needed)\n",
        "!wget -q https://archive.apache.org/dist/spark/spark-3.0.0/spark-3.0.0-bin-hadoop3.2.tgz\n",
        "\n",
        "# unzip the spark file to the current folder\n",
        "!tar xf spark-3.0.0-bin-hadoop3.2.tgz\n",
        "\n",
        "# set your spark folder to your system path environment. \n",
        "import os\n",
        "os.environ[\"JAVA_HOME\"] = \"/usr/lib/jvm/java-8-openjdk-amd64\"\n",
        "os.environ[\"SPARK_HOME\"] = \"/content/spark-3.0.0-bin-hadoop3.2\"\n",
        "\n",
        "\n",
        "# install findspark using pip\n",
        "!pip install -q findspark\n",
        "!pip install -q handyspark"
      ]
    },
    {
      "cell_type": "code",
      "source": [
        "import findspark\n",
        "findspark.init()\n",
        "from pyspark.sql import SparkSession\n",
        "spark = SparkSession.builder.master(\"local[*]\").getOrCreate()"
      ],
      "metadata": {
        "id": "KtVqtsqe4Ont"
      },
      "execution_count": null,
      "outputs": []
    },
    {
      "cell_type": "code",
      "source": [
        "from google.colab import files\n",
        "files.upload()"
      ],
      "metadata": {
        "colab": {
          "base_uri": "https://localhost:8080/",
          "height": 75
        },
        "id": "KL-5y6E54g3E",
        "outputId": "1e069067-3fcc-4e2a-fe7b-166b702c8c42"
      },
      "execution_count": null,
      "outputs": [
        {
          "output_type": "display_data",
          "data": {
            "text/plain": [
              "<IPython.core.display.HTML object>"
            ],
            "text/html": [
              "\n",
              "     <input type=\"file\" id=\"files-0788e066-aadc-4e9f-a59b-9246a75a3b76\" name=\"files[]\" multiple disabled\n",
              "        style=\"border:none\" />\n",
              "     <output id=\"result-0788e066-aadc-4e9f-a59b-9246a75a3b76\">\n",
              "      Upload widget is only available when the cell has been executed in the\n",
              "      current browser session. Please rerun this cell to enable.\n",
              "      </output>\n",
              "      <script>// Copyright 2017 Google LLC\n",
              "//\n",
              "// Licensed under the Apache License, Version 2.0 (the \"License\");\n",
              "// you may not use this file except in compliance with the License.\n",
              "// You may obtain a copy of the License at\n",
              "//\n",
              "//      http://www.apache.org/licenses/LICENSE-2.0\n",
              "//\n",
              "// Unless required by applicable law or agreed to in writing, software\n",
              "// distributed under the License is distributed on an \"AS IS\" BASIS,\n",
              "// WITHOUT WARRANTIES OR CONDITIONS OF ANY KIND, either express or implied.\n",
              "// See the License for the specific language governing permissions and\n",
              "// limitations under the License.\n",
              "\n",
              "/**\n",
              " * @fileoverview Helpers for google.colab Python module.\n",
              " */\n",
              "(function(scope) {\n",
              "function span(text, styleAttributes = {}) {\n",
              "  const element = document.createElement('span');\n",
              "  element.textContent = text;\n",
              "  for (const key of Object.keys(styleAttributes)) {\n",
              "    element.style[key] = styleAttributes[key];\n",
              "  }\n",
              "  return element;\n",
              "}\n",
              "\n",
              "// Max number of bytes which will be uploaded at a time.\n",
              "const MAX_PAYLOAD_SIZE = 100 * 1024;\n",
              "\n",
              "function _uploadFiles(inputId, outputId) {\n",
              "  const steps = uploadFilesStep(inputId, outputId);\n",
              "  const outputElement = document.getElementById(outputId);\n",
              "  // Cache steps on the outputElement to make it available for the next call\n",
              "  // to uploadFilesContinue from Python.\n",
              "  outputElement.steps = steps;\n",
              "\n",
              "  return _uploadFilesContinue(outputId);\n",
              "}\n",
              "\n",
              "// This is roughly an async generator (not supported in the browser yet),\n",
              "// where there are multiple asynchronous steps and the Python side is going\n",
              "// to poll for completion of each step.\n",
              "// This uses a Promise to block the python side on completion of each step,\n",
              "// then passes the result of the previous step as the input to the next step.\n",
              "function _uploadFilesContinue(outputId) {\n",
              "  const outputElement = document.getElementById(outputId);\n",
              "  const steps = outputElement.steps;\n",
              "\n",
              "  const next = steps.next(outputElement.lastPromiseValue);\n",
              "  return Promise.resolve(next.value.promise).then((value) => {\n",
              "    // Cache the last promise value to make it available to the next\n",
              "    // step of the generator.\n",
              "    outputElement.lastPromiseValue = value;\n",
              "    return next.value.response;\n",
              "  });\n",
              "}\n",
              "\n",
              "/**\n",
              " * Generator function which is called between each async step of the upload\n",
              " * process.\n",
              " * @param {string} inputId Element ID of the input file picker element.\n",
              " * @param {string} outputId Element ID of the output display.\n",
              " * @return {!Iterable<!Object>} Iterable of next steps.\n",
              " */\n",
              "function* uploadFilesStep(inputId, outputId) {\n",
              "  const inputElement = document.getElementById(inputId);\n",
              "  inputElement.disabled = false;\n",
              "\n",
              "  const outputElement = document.getElementById(outputId);\n",
              "  outputElement.innerHTML = '';\n",
              "\n",
              "  const pickedPromise = new Promise((resolve) => {\n",
              "    inputElement.addEventListener('change', (e) => {\n",
              "      resolve(e.target.files);\n",
              "    });\n",
              "  });\n",
              "\n",
              "  const cancel = document.createElement('button');\n",
              "  inputElement.parentElement.appendChild(cancel);\n",
              "  cancel.textContent = 'Cancel upload';\n",
              "  const cancelPromise = new Promise((resolve) => {\n",
              "    cancel.onclick = () => {\n",
              "      resolve(null);\n",
              "    };\n",
              "  });\n",
              "\n",
              "  // Wait for the user to pick the files.\n",
              "  const files = yield {\n",
              "    promise: Promise.race([pickedPromise, cancelPromise]),\n",
              "    response: {\n",
              "      action: 'starting',\n",
              "    }\n",
              "  };\n",
              "\n",
              "  cancel.remove();\n",
              "\n",
              "  // Disable the input element since further picks are not allowed.\n",
              "  inputElement.disabled = true;\n",
              "\n",
              "  if (!files) {\n",
              "    return {\n",
              "      response: {\n",
              "        action: 'complete',\n",
              "      }\n",
              "    };\n",
              "  }\n",
              "\n",
              "  for (const file of files) {\n",
              "    const li = document.createElement('li');\n",
              "    li.append(span(file.name, {fontWeight: 'bold'}));\n",
              "    li.append(span(\n",
              "        `(${file.type || 'n/a'}) - ${file.size} bytes, ` +\n",
              "        `last modified: ${\n",
              "            file.lastModifiedDate ? file.lastModifiedDate.toLocaleDateString() :\n",
              "                                    'n/a'} - `));\n",
              "    const percent = span('0% done');\n",
              "    li.appendChild(percent);\n",
              "\n",
              "    outputElement.appendChild(li);\n",
              "\n",
              "    const fileDataPromise = new Promise((resolve) => {\n",
              "      const reader = new FileReader();\n",
              "      reader.onload = (e) => {\n",
              "        resolve(e.target.result);\n",
              "      };\n",
              "      reader.readAsArrayBuffer(file);\n",
              "    });\n",
              "    // Wait for the data to be ready.\n",
              "    let fileData = yield {\n",
              "      promise: fileDataPromise,\n",
              "      response: {\n",
              "        action: 'continue',\n",
              "      }\n",
              "    };\n",
              "\n",
              "    // Use a chunked sending to avoid message size limits. See b/62115660.\n",
              "    let position = 0;\n",
              "    do {\n",
              "      const length = Math.min(fileData.byteLength - position, MAX_PAYLOAD_SIZE);\n",
              "      const chunk = new Uint8Array(fileData, position, length);\n",
              "      position += length;\n",
              "\n",
              "      const base64 = btoa(String.fromCharCode.apply(null, chunk));\n",
              "      yield {\n",
              "        response: {\n",
              "          action: 'append',\n",
              "          file: file.name,\n",
              "          data: base64,\n",
              "        },\n",
              "      };\n",
              "\n",
              "      let percentDone = fileData.byteLength === 0 ?\n",
              "          100 :\n",
              "          Math.round((position / fileData.byteLength) * 100);\n",
              "      percent.textContent = `${percentDone}% done`;\n",
              "\n",
              "    } while (position < fileData.byteLength);\n",
              "  }\n",
              "\n",
              "  // All done.\n",
              "  yield {\n",
              "    response: {\n",
              "      action: 'complete',\n",
              "    }\n",
              "  };\n",
              "}\n",
              "\n",
              "scope.google = scope.google || {};\n",
              "scope.google.colab = scope.google.colab || {};\n",
              "scope.google.colab._files = {\n",
              "  _uploadFiles,\n",
              "  _uploadFilesContinue,\n",
              "};\n",
              "})(self);\n",
              "</script> "
            ]
          },
          "metadata": {}
        },
        {
          "output_type": "stream",
          "name": "stdout",
          "text": [
            "Saving city_hours.csv to city_hours.csv\n"
          ]
        }
      ]
    },
    {
      "cell_type": "code",
      "source": [
        "df = spark.read.csv('city_hours.csv',inferSchema=True, header = True)"
      ],
      "metadata": {
        "id": "dSuj81r-4jJ4"
      },
      "execution_count": null,
      "outputs": []
    },
    {
      "cell_type": "code",
      "source": [
        "df = df.withColumnRenamed(df.columns[2],\"PM25\")"
      ],
      "metadata": {
        "id": "5ho9-He5gUrW"
      },
      "execution_count": null,
      "outputs": []
    },
    {
      "cell_type": "code",
      "source": [
        "df.printSchema()"
      ],
      "metadata": {
        "colab": {
          "base_uri": "https://localhost:8080/"
        },
        "id": "p9kQRzIzaAge",
        "outputId": "ae26ecb9-e7fe-4745-830d-1c51458a5d3f"
      },
      "execution_count": null,
      "outputs": [
        {
          "output_type": "stream",
          "name": "stdout",
          "text": [
            "root\n",
            " |-- City: string (nullable = true)\n",
            " |-- Datetime: string (nullable = true)\n",
            " |-- PM25: double (nullable = true)\n",
            " |-- PM10: double (nullable = true)\n",
            " |-- NO: double (nullable = true)\n",
            " |-- NO2: double (nullable = true)\n",
            " |-- NOx: double (nullable = true)\n",
            " |-- NH3: double (nullable = true)\n",
            " |-- CO: double (nullable = true)\n",
            " |-- SO2: double (nullable = true)\n",
            " |-- O3: double (nullable = true)\n",
            " |-- Benzene: double (nullable = true)\n",
            " |-- Toluene: double (nullable = true)\n",
            " |-- Xylene: double (nullable = true)\n",
            " |-- AQI: double (nullable = true)\n",
            " |-- AQI_Bucket: string (nullable = true)\n",
            "\n"
          ]
        }
      ]
    },
    {
      "cell_type": "code",
      "source": [
        "df.show(5)"
      ],
      "metadata": {
        "colab": {
          "base_uri": "https://localhost:8080/"
        },
        "id": "PD75Gl405efO",
        "outputId": "3cd39abf-dc7a-482a-8d91-03440f89ffc8"
      },
      "execution_count": null,
      "outputs": [
        {
          "output_type": "stream",
          "name": "stdout",
          "text": [
            "+---------+-------------------+----+----+----+-----+-----+----+----+------+------+-------+-------+------+----+----------+\n",
            "|     City|           Datetime|PM25|PM10|  NO|  NO2|  NOx| NH3|  CO|   SO2|    O3|Benzene|Toluene|Xylene| AQI|AQI_Bucket|\n",
            "+---------+-------------------+----+----+----+-----+-----+----+----+------+------+-------+-------+------+----+----------+\n",
            "|Ahmedabad|2015-01-01 01:00:00|null|null| 1.0|40.01|36.37|null| 1.0|122.07|  null|    0.0|    0.0|   0.0|null|      null|\n",
            "|Ahmedabad|2015-01-01 02:00:00|null|null|0.02|27.75|19.73|null|0.02|  85.9|  null|    0.0|    0.0|   0.0|null|      null|\n",
            "|Ahmedabad|2015-01-01 03:00:00|null|null|0.08|19.32|11.08|null|0.08| 52.83|  null|    0.0|    0.0|   0.0|null|      null|\n",
            "|Ahmedabad|2015-01-01 04:00:00|null|null| 0.3|16.45|  9.2|null| 0.3| 39.53|153.58|    0.0|    0.0|   0.0|null|      null|\n",
            "|Ahmedabad|2015-01-01 05:00:00|null|null|0.12| 14.9| 7.85|null|0.12| 32.63|  null|    0.0|    0.0|   0.0|null|      null|\n",
            "+---------+-------------------+----+----+----+-----+-----+----+----+------+------+-------+-------+------+----+----------+\n",
            "only showing top 5 rows\n",
            "\n"
          ]
        }
      ]
    },
    {
      "cell_type": "code",
      "source": [
        "from pyspark.sql.functions import col\n",
        "print(\"City - \",df.filter(col(\"City\").isNull()).count())\n",
        "print(\"Pm25 - \",df.filter(col(\"PM25\").isNull()).count())\n",
        "print(\"Pm10 - \",df.filter(col(\"PM10\").isNull()).count())\n",
        "print(\"No - \",df.filter(col(\"NO\").isNull()).count())\n",
        "print(\"NO2 - \",df.filter(col(\"NO2\").isNull()).count())\n",
        "print(\"NOx - \",df.filter(col(\"NOx\").isNull()).count())\n",
        "print(\"NH3 - \",df.filter(col(\"NH3\").isNull()).count())\n",
        "print(\"CO - \",df.filter(col(\"CO\").isNull()).count())\n",
        "print(\"SO2 - \",df.filter(col(\"SO2\").isNull()).count())\n",
        "print(\"O3 - \",df.filter(col(\"O3\").isNull()).count())\n",
        "print(\"Benzene - \",df.filter(col(\"Benzene\").isNull()).count())\n",
        "print(\"Toluene - \",df.filter(col(\"Toluene\").isNull()).count())\n",
        "print(\"Xylene - \",df.filter(col(\"Xylene\").isNull()).count())\n",
        "print(\"AQI - \",df.filter(col(\"AQI\").isNull()).count())\n",
        "print(\"AQI_Bucket - \",df.filter(col(\"AQI_Bucket\").isNull()).count())\n"
      ],
      "metadata": {
        "colab": {
          "base_uri": "https://localhost:8080/"
        },
        "id": "8xMqfGGR5n2j",
        "outputId": "e8170a96-7e22-42f1-d77c-9e28ef85a507"
      },
      "execution_count": null,
      "outputs": [
        {
          "output_type": "stream",
          "name": "stdout",
          "text": [
            "City -  0\n",
            "Pm25 -  145088\n",
            "Pm10 -  296737\n",
            "No -  116632\n",
            "NO2 -  117122\n",
            "NOx -  123224\n",
            "NH3 -  272542\n",
            "CO -  86517\n",
            "SO2 -  130373\n",
            "O3 -  129208\n",
            "Benzene -  163646\n",
            "Toluene -  220607\n",
            "Xylene -  455829\n",
            "AQI -  129080\n",
            "AQI_Bucket -  129080\n"
          ]
        }
      ]
    },
    {
      "cell_type": "code",
      "source": [
        "df.count()"
      ],
      "metadata": {
        "colab": {
          "base_uri": "https://localhost:8080/"
        },
        "id": "QeIJ7-x_5p1K",
        "outputId": "32d533f3-aa10-430f-e891-6f7f630f7f21"
      },
      "execution_count": null,
      "outputs": [
        {
          "output_type": "execute_result",
          "data": {
            "text/plain": [
              "707875"
            ]
          },
          "metadata": {},
          "execution_count": 9
        }
      ]
    },
    {
      "cell_type": "code",
      "source": [
        "### Filling with mean values with an imputer\n",
        "from pyspark.ml.feature import Imputer\n",
        "### Create an imputer object\n",
        "imputer = Imputer(\n",
        "          inputCols= ['PM25','PM10','NO','NO2','NOx','NH3','CO','SO2','O3','Benzene','Toluene','Xylene','AQI'],\n",
        "          outputCols = [\"{}\".format(c) for c in ['PM25','PM10','NO','NO2','NOx','NH3','CO','SO2','O3','Benzene','Toluene','Xylene','AQI']]\n",
        "    ).setStrategy(\"median\")\n",
        "\n",
        "### Fit imputer on Data Frame and Transform it\n",
        "df = imputer.fit(df).transform(df)"
      ],
      "metadata": {
        "id": "gfExlDreIklr"
      },
      "execution_count": null,
      "outputs": []
    },
    {
      "cell_type": "code",
      "source": [
        "df = df.na.drop()"
      ],
      "metadata": {
        "id": "nRI2zzS5Ufqy"
      },
      "execution_count": null,
      "outputs": []
    },
    {
      "cell_type": "code",
      "source": [
        "df.show()"
      ],
      "metadata": {
        "colab": {
          "base_uri": "https://localhost:8080/"
        },
        "id": "buLICtIXVGmt",
        "outputId": "c9aca8cc-bf87-4e59-e908-a620e86fcf60"
      },
      "execution_count": null,
      "outputs": [
        {
          "output_type": "stream",
          "name": "stdout",
          "text": [
            "+---------+-------------------+------+----+-----+-----+-----+-----+-----+------+------+-------+-------+------+-----+----------+\n",
            "|     City|           Datetime|  PM25|PM10|   NO|  NO2|  NOx|  NH3|   CO|   SO2|    O3|Benzene|Toluene|Xylene|  AQI|AQI_Bucket|\n",
            "+---------+-------------------+------+----+-----+-----+-----+-----+-----+------+------+-------+-------+------+-----+----------+\n",
            "|Ahmedabad|2015-01-29 09:00:00| 80.47|91.5| 1.42| 21.9|20.65|15.35| 1.42| 32.26| 46.71|    0.0|    0.0|  2.07|288.0|      Poor|\n",
            "|Ahmedabad|2015-01-29 10:00:00|  87.8|91.5| 2.03|19.87|22.22|15.35| 2.03| 78.95| 21.88|    0.0|    0.0|  2.13|181.0|  Moderate|\n",
            "|Ahmedabad|2015-01-29 11:00:00| 90.53|91.5| 1.72|20.11|22.12|15.35| 1.72| 95.86| 67.67|    0.0|    0.0|  3.45|182.0|  Moderate|\n",
            "|Ahmedabad|2015-01-29 12:00:00| 83.53|91.5| 0.75|16.35|16.48|15.35| 0.75| 44.91| 88.92|    0.0|    0.0|  3.25|182.0|  Moderate|\n",
            "|Ahmedabad|2015-01-29 13:00:00|  68.4|91.5| 0.58|13.73| 12.5|15.35| 0.58| 34.57|116.75|    0.0|    0.0|  2.85|179.0|  Moderate|\n",
            "|Ahmedabad|2015-01-29 14:00:00| 67.57|91.5| 0.63|15.84|15.12|15.35| 0.63| 27.26| 82.96|    0.0|    0.0|  2.67|176.0|  Moderate|\n",
            "|Ahmedabad|2015-01-29 15:00:00| 61.13|91.5| 0.43|14.07| 12.9|15.35| 0.43| 34.47|106.88|    0.0|    0.0|  0.78|173.0|  Moderate|\n",
            "|Ahmedabad|2015-01-29 16:00:00| 63.43|91.5| 0.45|12.38|10.83|15.35| 0.45| 40.32| 82.54|    0.0|    0.0|  1.75|171.0|  Moderate|\n",
            "|Ahmedabad|2015-01-29 17:00:00| 54.37|91.5| 0.72| 14.0|13.38|15.35| 0.72| 35.77| 73.54|    0.0|    0.0|  0.42|167.0|  Moderate|\n",
            "|Ahmedabad|2015-01-29 18:00:00|  49.2|91.5| 0.53|20.64|22.13|15.35| 0.53| 27.72|143.96|    0.0|    0.0|  0.63|169.0|  Moderate|\n",
            "|Ahmedabad|2015-01-29 19:00:00| 67.07|91.5|  4.2|48.04|57.87|15.35|  4.2| 66.98| 69.42|    0.0|    0.0|  2.75|172.0|  Moderate|\n",
            "|Ahmedabad|2015-01-29 20:00:00| 90.93|91.5| 8.07|55.36|68.95|15.35| 8.07|  47.8|  72.0|    0.0|    0.0|  5.83|177.0|  Moderate|\n",
            "|Ahmedabad|2015-01-29 21:00:00|100.37|91.5|17.98|52.64|75.58|15.35|17.98| 73.31|  79.5|    0.0|    0.0| 14.72|306.0| Very Poor|\n",
            "|Ahmedabad|2015-01-29 22:00:00|112.63|91.5| 5.55|47.48|57.63|15.35| 5.55| 93.85| 49.12|    0.0|    0.0|  6.47|306.0| Very Poor|\n",
            "|Ahmedabad|2015-01-29 23:00:00| 93.57|91.5| 4.17|41.95|49.48|15.35| 4.17|110.68|  11.5|   0.47|    0.0|  3.83|306.0| Very Poor|\n",
            "|Ahmedabad|2015-01-30 00:00:00| 100.0|91.5|  4.5|41.58|48.03|15.35|  4.5|  54.6| 79.75|    0.0|    0.0|   2.2|306.0| Very Poor|\n",
            "|Ahmedabad|2015-01-30 01:00:00|  89.1|91.5| 5.02|43.92|45.57|15.35| 5.02| 90.08| 59.92|    0.0|    0.0|  1.67|306.0| Very Poor|\n",
            "|Ahmedabad|2015-01-30 02:00:00| 66.23|91.5| 6.63|40.46|42.05|15.35| 6.63| 92.77| 72.79|    0.0|    0.0|  2.75|306.0| Very Poor|\n",
            "|Ahmedabad|2015-01-30 03:00:00| 78.93|91.5| 2.33|37.45| 34.8|15.35| 2.33| 119.3| 16.67|    0.0|    0.0|  1.92|306.0| Very Poor|\n",
            "|Ahmedabad|2015-01-30 04:00:00| 87.77|91.5| 2.53|35.97|33.83|15.35| 2.53| 68.75| 83.25|    0.0|    0.0|  3.67|306.0| Very Poor|\n",
            "+---------+-------------------+------+----+-----+-----+-----+-----+-----+------+------+-------+-------+------+-----+----------+\n",
            "only showing top 20 rows\n",
            "\n"
          ]
        }
      ]
    },
    {
      "cell_type": "code",
      "source": [
        "df.count()"
      ],
      "metadata": {
        "colab": {
          "base_uri": "https://localhost:8080/"
        },
        "id": "27CzXafD5ne9",
        "outputId": "0e3e02cd-045f-405a-e850-71f900248667"
      },
      "execution_count": null,
      "outputs": [
        {
          "output_type": "execute_result",
          "data": {
            "text/plain": [
              "578795"
            ]
          },
          "metadata": {},
          "execution_count": 12
        }
      ]
    },
    {
      "cell_type": "code",
      "source": [
        "from pyspark.ml.feature import StringIndexer\n",
        "\n",
        "df1 = StringIndexer(inputCol=\"AQI_Bucket\", outputCol=\"AQI_Bucket1\")\n",
        "\n",
        "df1 = df1.fit(df).transform(df)\n"
      ],
      "metadata": {
        "id": "2qHYyEnjVmvw"
      },
      "execution_count": null,
      "outputs": []
    },
    {
      "cell_type": "code",
      "source": [
        "df1.show()"
      ],
      "metadata": {
        "colab": {
          "base_uri": "https://localhost:8080/"
        },
        "id": "86jSMILAKuw_",
        "outputId": "dc703081-7c74-46a0-a6b8-112fa3c74804"
      },
      "execution_count": null,
      "outputs": [
        {
          "output_type": "stream",
          "name": "stdout",
          "text": [
            "+---------+-------------------+------+----+-----+-----+-----+-----+-----+------+------+-------+-------+------+-----+----------+-----------+\n",
            "|     City|           Datetime|  PM25|PM10|   NO|  NO2|  NOx|  NH3|   CO|   SO2|    O3|Benzene|Toluene|Xylene|  AQI|AQI_Bucket|AQI_Bucket1|\n",
            "+---------+-------------------+------+----+-----+-----+-----+-----+-----+------+------+-------+-------+------+-----+----------+-----------+\n",
            "|Ahmedabad|2015-01-29 09:00:00| 80.47|91.5| 1.42| 21.9|20.65|15.35| 1.42| 32.26| 46.71|    0.0|    0.0|  2.07|288.0|      Poor|        2.0|\n",
            "|Ahmedabad|2015-01-29 10:00:00|  87.8|91.5| 2.03|19.87|22.22|15.35| 2.03| 78.95| 21.88|    0.0|    0.0|  2.13|181.0|  Moderate|        0.0|\n",
            "|Ahmedabad|2015-01-29 11:00:00| 90.53|91.5| 1.72|20.11|22.12|15.35| 1.72| 95.86| 67.67|    0.0|    0.0|  3.45|182.0|  Moderate|        0.0|\n",
            "|Ahmedabad|2015-01-29 12:00:00| 83.53|91.5| 0.75|16.35|16.48|15.35| 0.75| 44.91| 88.92|    0.0|    0.0|  3.25|182.0|  Moderate|        0.0|\n",
            "|Ahmedabad|2015-01-29 13:00:00|  68.4|91.5| 0.58|13.73| 12.5|15.35| 0.58| 34.57|116.75|    0.0|    0.0|  2.85|179.0|  Moderate|        0.0|\n",
            "|Ahmedabad|2015-01-29 14:00:00| 67.57|91.5| 0.63|15.84|15.12|15.35| 0.63| 27.26| 82.96|    0.0|    0.0|  2.67|176.0|  Moderate|        0.0|\n",
            "|Ahmedabad|2015-01-29 15:00:00| 61.13|91.5| 0.43|14.07| 12.9|15.35| 0.43| 34.47|106.88|    0.0|    0.0|  0.78|173.0|  Moderate|        0.0|\n",
            "|Ahmedabad|2015-01-29 16:00:00| 63.43|91.5| 0.45|12.38|10.83|15.35| 0.45| 40.32| 82.54|    0.0|    0.0|  1.75|171.0|  Moderate|        0.0|\n",
            "|Ahmedabad|2015-01-29 17:00:00| 54.37|91.5| 0.72| 14.0|13.38|15.35| 0.72| 35.77| 73.54|    0.0|    0.0|  0.42|167.0|  Moderate|        0.0|\n",
            "|Ahmedabad|2015-01-29 18:00:00|  49.2|91.5| 0.53|20.64|22.13|15.35| 0.53| 27.72|143.96|    0.0|    0.0|  0.63|169.0|  Moderate|        0.0|\n",
            "|Ahmedabad|2015-01-29 19:00:00| 67.07|91.5|  4.2|48.04|57.87|15.35|  4.2| 66.98| 69.42|    0.0|    0.0|  2.75|172.0|  Moderate|        0.0|\n",
            "|Ahmedabad|2015-01-29 20:00:00| 90.93|91.5| 8.07|55.36|68.95|15.35| 8.07|  47.8|  72.0|    0.0|    0.0|  5.83|177.0|  Moderate|        0.0|\n",
            "|Ahmedabad|2015-01-29 21:00:00|100.37|91.5|17.98|52.64|75.58|15.35|17.98| 73.31|  79.5|    0.0|    0.0| 14.72|306.0| Very Poor|        3.0|\n",
            "|Ahmedabad|2015-01-29 22:00:00|112.63|91.5| 5.55|47.48|57.63|15.35| 5.55| 93.85| 49.12|    0.0|    0.0|  6.47|306.0| Very Poor|        3.0|\n",
            "|Ahmedabad|2015-01-29 23:00:00| 93.57|91.5| 4.17|41.95|49.48|15.35| 4.17|110.68|  11.5|   0.47|    0.0|  3.83|306.0| Very Poor|        3.0|\n",
            "|Ahmedabad|2015-01-30 00:00:00| 100.0|91.5|  4.5|41.58|48.03|15.35|  4.5|  54.6| 79.75|    0.0|    0.0|   2.2|306.0| Very Poor|        3.0|\n",
            "|Ahmedabad|2015-01-30 01:00:00|  89.1|91.5| 5.02|43.92|45.57|15.35| 5.02| 90.08| 59.92|    0.0|    0.0|  1.67|306.0| Very Poor|        3.0|\n",
            "|Ahmedabad|2015-01-30 02:00:00| 66.23|91.5| 6.63|40.46|42.05|15.35| 6.63| 92.77| 72.79|    0.0|    0.0|  2.75|306.0| Very Poor|        3.0|\n",
            "|Ahmedabad|2015-01-30 03:00:00| 78.93|91.5| 2.33|37.45| 34.8|15.35| 2.33| 119.3| 16.67|    0.0|    0.0|  1.92|306.0| Very Poor|        3.0|\n",
            "|Ahmedabad|2015-01-30 04:00:00| 87.77|91.5| 2.53|35.97|33.83|15.35| 2.53| 68.75| 83.25|    0.0|    0.0|  3.67|306.0| Very Poor|        3.0|\n",
            "+---------+-------------------+------+----+-----+-----+-----+-----+-----+------+------+-------+-------+------+-----+----------+-----------+\n",
            "only showing top 20 rows\n",
            "\n"
          ]
        }
      ]
    },
    {
      "cell_type": "code",
      "source": [
        "df1 = df1.drop(\"City\",\"Datetime\",\"AQI_Bucket\")"
      ],
      "metadata": {
        "id": "SoQDGocPM7bC"
      },
      "execution_count": null,
      "outputs": []
    },
    {
      "cell_type": "code",
      "source": [
        "df1.columns"
      ],
      "metadata": {
        "colab": {
          "base_uri": "https://localhost:8080/"
        },
        "id": "g2_6xmalNhiS",
        "outputId": "0973556a-e22c-4f6c-f7c1-bd8eb5fafa5d"
      },
      "execution_count": null,
      "outputs": [
        {
          "output_type": "execute_result",
          "data": {
            "text/plain": [
              "['PM25',\n",
              " 'PM10',\n",
              " 'NO',\n",
              " 'NO2',\n",
              " 'NOx',\n",
              " 'NH3',\n",
              " 'CO',\n",
              " 'SO2',\n",
              " 'O3',\n",
              " 'Benzene',\n",
              " 'Toluene',\n",
              " 'Xylene',\n",
              " 'AQI',\n",
              " 'AQI_Bucket1']"
            ]
          },
          "metadata": {},
          "execution_count": 16
        }
      ]
    },
    {
      "cell_type": "code",
      "source": [
        "from pyspark.ml.feature import VectorAssembler\n",
        "\n",
        "assembler = VectorAssembler(inputCols=['PM25','PM10','NO','NO2','NOx','NH3','CO','SO2','O3','Benzene','Toluene','Xylene','AQI'],outputCol=\"features\")\n",
        "output = assembler.transform(df1)\n",
        "\n",
        "finalized_data = output.select(\"features\",\"AQI_Bucket1\")\n",
        "\n",
        "finalized_data.show()"
      ],
      "metadata": {
        "colab": {
          "base_uri": "https://localhost:8080/"
        },
        "id": "9oUaZLHvwtyX",
        "outputId": "0c9353d2-1581-413a-cbe4-b400bee73b5a"
      },
      "execution_count": null,
      "outputs": [
        {
          "output_type": "stream",
          "name": "stdout",
          "text": [
            "+--------------------+-----------+\n",
            "|            features|AQI_Bucket1|\n",
            "+--------------------+-----------+\n",
            "|[80.47,91.5,1.42,...|        2.0|\n",
            "|[87.8,91.5,2.03,1...|        0.0|\n",
            "|[90.53,91.5,1.72,...|        0.0|\n",
            "|[83.53,91.5,0.75,...|        0.0|\n",
            "|[68.4,91.5,0.58,1...|        0.0|\n",
            "|[67.57,91.5,0.63,...|        0.0|\n",
            "|[61.13,91.5,0.43,...|        0.0|\n",
            "|[63.43,91.5,0.45,...|        0.0|\n",
            "|[54.37,91.5,0.72,...|        0.0|\n",
            "|[49.2,91.5,0.53,2...|        0.0|\n",
            "|[67.07,91.5,4.2,4...|        0.0|\n",
            "|[90.93,91.5,8.07,...|        0.0|\n",
            "|[100.37,91.5,17.9...|        3.0|\n",
            "|[112.63,91.5,5.55...|        3.0|\n",
            "|[93.57,91.5,4.17,...|        3.0|\n",
            "|[100.0,91.5,4.5,4...|        3.0|\n",
            "|[89.1,91.5,5.02,4...|        3.0|\n",
            "|[66.23,91.5,6.63,...|        3.0|\n",
            "|[78.93,91.5,2.33,...|        3.0|\n",
            "|[87.77,91.5,2.53,...|        3.0|\n",
            "+--------------------+-----------+\n",
            "only showing top 20 rows\n",
            "\n"
          ]
        }
      ]
    },
    {
      "cell_type": "code",
      "source": [
        "train_data,test_data = finalized_data.randomSplit([0.7,0.3])"
      ],
      "metadata": {
        "id": "TTHEqYTF5uUn"
      },
      "execution_count": null,
      "outputs": []
    },
    {
      "cell_type": "markdown",
      "source": [
        "**Ridge and Lasso** "
      ],
      "metadata": {
        "id": "_qQMD5fmjscq"
      }
    },
    {
      "cell_type": "code",
      "source": [
        "lr = LogisticRegression(labelCol='AQI_Bucket1', \n",
        "                        maxIter=100, \n",
        "                        elasticNetParam=0, # Ridge regression is choosen \n",
        "                        regParam=0.03)\n",
        "\n",
        "model = lr.fit(train_data)\n",
        "predlr = model.transform(test_data)\n"
      ],
      "metadata": {
        "id": "j2ocGDe-jxbO"
      },
      "execution_count": null,
      "outputs": []
    },
    {
      "cell_type": "code",
      "source": [
        "evaluator = MulticlassClassificationEvaluator(labelCol='AQI_Bucket1',metricName='accuracy')\n",
        "\n",
        "print(f\"The accuracy of logistic regression is : {evaluator.evaluate(predlr)}\")"
      ],
      "metadata": {
        "colab": {
          "base_uri": "https://localhost:8080/"
        },
        "id": "g83N0xybj8fv",
        "outputId": "7ed9aaff-2ba2-495f-c366-bb5f188bebb8"
      },
      "execution_count": null,
      "outputs": [
        {
          "output_type": "stream",
          "name": "stdout",
          "text": [
            "The accuracy of logistic regression is : 0.6243599206532269\n"
          ]
        }
      ]
    },
    {
      "cell_type": "code",
      "source": [
        "from sklearn.metrics import confusion_matrix\n",
        "\n",
        "y_pred=predlr.select(\"prediction\").collect()\n",
        "y_orig=predlr.select(\"AQI_Bucket1\").collect()\n",
        "\n",
        "cm = confusion_matrix(y_orig, y_pred)\n",
        "print(\"Confusion Matrix:\")\n",
        "print(cm)"
      ],
      "metadata": {
        "colab": {
          "base_uri": "https://localhost:8080/"
        },
        "id": "C0TuV9RCluaM",
        "outputId": "e5948f47-cd70-4f4a-ff4c-41587d9cff14"
      },
      "execution_count": null,
      "outputs": [
        {
          "output_type": "stream",
          "name": "stdout",
          "text": [
            "Confusion Matrix:\n",
            "[[44848 14649     1   129     0     2]\n",
            " [ 7757 48876     0    14     0     0]\n",
            " [17755   311   211  1738     0    31]\n",
            " [ 3902     3  1796 11155     0   453]\n",
            " [   54 11424     0     0     0     0]\n",
            " [    1     0   416  4706     0  3184]]\n"
          ]
        }
      ]
    },
    {
      "cell_type": "code",
      "source": [
        "from handyspark import *\n",
        "import matplotlib.pyplot as plt\n",
        "\n",
        "\n",
        "bcm = BinaryClassificationMetrics(predlr, scoreCol='probability', labelCol='AQI_Bucket1')\n",
        "# Get metrics from evaluator\n",
        "print(\"Area under ROC Curve: {:.4f}\".format(bcm.areaUnderROC))\n",
        "print(\"Area under PR Curve: {:.4f}\".format(bcm.areaUnderPR))\n",
        "# Plot both ROC and PR curves\n",
        "fig, axs = plt.subplots(1, 2, figsize=(12, 4))\n",
        "bcm.plot_roc_curve(ax=axs[0])\n",
        "bcm.plot_pr_curve(ax=axs[1])"
      ],
      "metadata": {
        "colab": {
          "base_uri": "https://localhost:8080/",
          "height": 349
        },
        "id": "BZPSQV66l1GQ",
        "outputId": "68b56f01-9318-4b97-fb62-69d7387d22a1"
      },
      "execution_count": null,
      "outputs": [
        {
          "output_type": "stream",
          "name": "stdout",
          "text": [
            "Area under ROC Curve: 0.5801\n",
            "Area under PR Curve: 0.8084\n"
          ]
        },
        {
          "output_type": "execute_result",
          "data": {
            "text/plain": [
              "<matplotlib.axes._subplots.AxesSubplot at 0x7f77bd4eac40>"
            ]
          },
          "metadata": {},
          "execution_count": 37
        },
        {
          "output_type": "display_data",
          "data": {
            "text/plain": [
              "<Figure size 864x288 with 2 Axes>"
            ],
            "image/png": "[encoded data removed]"
          },
          "metadata": {
            "needs_background": "light"
          }
        }
      ]
    },
    {
      "cell_type": "markdown",
      "source": [
        "**Random Forest**"
      ],
      "metadata": {
        "id": "NnWk5LD9kAQf"
      }
    },
    {
      "cell_type": "code",
      "source": [
        "from pyspark.ml.classification import LogisticRegression,RandomForestClassifier, GBTClassifier\n",
        "                    \n",
        "rf = RandomForestClassifier(labelCol='AQI_Bucket1', \n",
        "                           numTrees=100, maxDepth=3)\n",
        "\n",
        "model = rf.fit(train_data)\n",
        "pred_rf = model.transform(test_data)"
      ],
      "metadata": {
        "id": "Ns3XR1kNkD89"
      },
      "execution_count": null,
      "outputs": []
    },
    {
      "cell_type": "code",
      "source": [
        "from pyspark.ml.evaluation import MulticlassClassificationEvaluator\n",
        "\n",
        "evaluator = MulticlassClassificationEvaluator(labelCol='AQI_Bucket1',metricName='accuracy')\n",
        "print(f\"The accuracy of Random Forest is : {evaluator.evaluate(pred_rf)}\")"
      ],
      "metadata": {
        "colab": {
          "base_uri": "https://localhost:8080/"
        },
        "id": "OMyrwCJMkOpL",
        "outputId": "7de96d0d-d1d5-4ebb-e730-73837c278285"
      },
      "execution_count": null,
      "outputs": [
        {
          "output_type": "stream",
          "name": "stdout",
          "text": [
            "The accuracy of Random Forest is : 0.7969449185772939\n"
          ]
        }
      ]
    },
    {
      "cell_type": "code",
      "source": [
        "from sklearn.metrics import confusion_matrix\n",
        "\n",
        "y_pred=pred_rf.select(\"prediction\").collect()\n",
        "y_orig=pred_rf.select(\"AQI_Bucket1\").collect()\n",
        "\n",
        "cm = confusion_matrix(y_orig, y_pred)\n",
        "print(\"Confusion Matrix:\")\n",
        "print(cm) "
      ],
      "metadata": {
        "colab": {
          "base_uri": "https://localhost:8080/"
        },
        "id": "VgsFJZDwkQZz",
        "outputId": "a0eda427-67fc-41f7-b731-ce038a8a0a99"
      },
      "execution_count": null,
      "outputs": [
        {
          "output_type": "stream",
          "name": "stdout",
          "text": [
            "Confusion Matrix:\n",
            "[[58215  1414     0     0     0     0]\n",
            " [    1 56646     0     0     0     0]\n",
            " [ 8090     0 10686  1270     0     0]\n",
            " [ 3560     0  1093 12656     0     0]\n",
            " [    2 11476     0     0     0     0]\n",
            " [ 1725     0   592  5990     0     0]]\n"
          ]
        }
      ]
    },
    {
      "cell_type": "code",
      "source": [
        "from handyspark import *\n",
        "import matplotlib.pyplot as plt\n",
        "\n",
        "\n",
        "bcm = BinaryClassificationMetrics(pred_rf, scoreCol='probability', labelCol='AQI_Bucket1')\n",
        "# Get metrics from evaluator\n",
        "print(\"Area under ROC Curve: {:.4f}\".format(bcm.areaUnderROC))\n",
        "print(\"Area under PR Curve: {:.4f}\".format(bcm.areaUnderPR))\n",
        "# Plot both ROC and PR curves\n",
        "fig, axs = plt.subplots(1, 2, figsize=(12, 4))\n",
        "bcm.plot_roc_curve(ax=axs[0])\n",
        "bcm.plot_pr_curve(ax=axs[1])"
      ],
      "metadata": {
        "colab": {
          "base_uri": "https://localhost:8080/",
          "height": 349
        },
        "id": "sbumzY8FkW3p",
        "outputId": "c6b0786e-e8a7-4537-e2f6-961a589da4f1"
      },
      "execution_count": null,
      "outputs": [
        {
          "output_type": "stream",
          "name": "stdout",
          "text": [
            "Area under ROC Curve: 0.6167\n",
            "Area under PR Curve: 0.8396\n"
          ]
        },
        {
          "output_type": "execute_result",
          "data": {
            "text/plain": [
              "<matplotlib.axes._subplots.AxesSubplot at 0x7f77bd4ab460>"
            ]
          },
          "metadata": {},
          "execution_count": 32
        },
        {
          "output_type": "display_data",
          "data": {
            "text/plain": [
              "<Figure size 864x288 with 2 Axes>"
            ],
            "image/png": "[encoded data removed]"
          },
          "metadata": {
            "needs_background": "light"
          }
        }
      ]
    },
    {
      "cell_type": "markdown",
      "source": [
        "**Decision Tree**"
      ],
      "metadata": {
        "id": "JK2a6dZk76x0"
      }
    },
    {
      "cell_type": "code",
      "source": [
        "from pyspark.ml.classification import DecisionTreeClassifier\n",
        "\n",
        "# train our model using training data\n",
        "dt = DecisionTreeClassifier(labelCol=\"AQI_Bucket1\", featuresCol=\"features\")\n",
        "model = dt.fit(train_data)\n",
        "# test our model and make predictions using testing data\n",
        "predictions = model.transform(test_data)\n",
        "predictions.select(\"prediction\", \"AQI_Bucket1\").show(5)"
      ],
      "metadata": {
        "colab": {
          "base_uri": "https://localhost:8080/"
        },
        "id": "Cv5f7cQ55xtQ",
        "outputId": "d5c4e177-8f3a-40f2-a2a3-10bb45c8333d"
      },
      "execution_count": null,
      "outputs": [
        {
          "output_type": "stream",
          "name": "stdout",
          "text": [
            "+----------+-----------+\n",
            "|prediction|AQI_Bucket1|\n",
            "+----------+-----------+\n",
            "|       4.0|        4.0|\n",
            "|       4.0|        4.0|\n",
            "|       1.0|        1.0|\n",
            "|       1.0|        1.0|\n",
            "|       4.0|        4.0|\n",
            "+----------+-----------+\n",
            "only showing top 5 rows\n",
            "\n"
          ]
        }
      ]
    },
    {
      "cell_type": "code",
      "source": [
        "\n",
        "from pyspark.ml.evaluation import MulticlassClassificationEvaluator\n",
        "\n",
        "\n",
        "multi_evaluator = MulticlassClassificationEvaluator(labelCol = 'AQI_Bucket1', metricName = 'accuracy')\n",
        "print('Accuracy:', multi_evaluator.evaluate(predictions))"
      ],
      "metadata": {
        "colab": {
          "base_uri": "https://localhost:8080/"
        },
        "id": "9LY0SAOZ744r",
        "outputId": "ae7ff2ea-a40f-4435-e3d9-45bf2b0592e5"
      },
      "execution_count": null,
      "outputs": [
        {
          "output_type": "stream",
          "name": "stdout",
          "text": [
            "Accuracy: 0.9405072196337132\n"
          ]
        }
      ]
    },
    {
      "cell_type": "code",
      "source": [
        "from sklearn.metrics import confusion_matrix\n",
        "\n",
        "y_pred=predictions.select(\"prediction\").collect()\n",
        "y_orig=predictions.select(\"AQI_Bucket1\").collect()\n",
        "\n",
        "cm = confusion_matrix(y_orig, y_pred)\n",
        "print(\"Confusion Matrix:\")\n",
        "print(cm) "
      ],
      "metadata": {
        "id": "661avbXPaFux",
        "colab": {
          "base_uri": "https://localhost:8080/"
        },
        "outputId": "a97e7828-f7ac-4729-9cf0-c9b401c1d5b6"
      },
      "execution_count": null,
      "outputs": [
        {
          "output_type": "stream",
          "name": "stdout",
          "text": [
            "Confusion Matrix:\n",
            "[[57063  2513    53     0     0     0]\n",
            " [  316 56331     0     0     0     0]\n",
            " [ 1612     0 16162  2272     0     0]\n",
            " [    0     0     0 17309     0     0]\n",
            " [    0   889     0     0 10589     0]\n",
            " [    0     0     0  2662     0  5645]]\n"
          ]
        }
      ]
    },
    {
      "cell_type": "code",
      "source": [
        "from handyspark import *\n",
        "import matplotlib.pyplot as plt\n",
        "\n",
        "# Creates instance of extended version of BinaryClassificationMetrics\n",
        "# using a DataFrame and its probability and label columns, as the output\n",
        "# from the classifier\n",
        "bcm = BinaryClassificationMetrics(predictions, scoreCol='probability', labelCol='AQI_Bucket1')\n",
        "# Get metrics from evaluator\n",
        "print(\"Area under ROC Curve: {:.4f}\".format(bcm.areaUnderROC))\n",
        "print(\"Area under PR Curve: {:.4f}\".format(bcm.areaUnderPR))\n",
        "# Plot both ROC and PR curves\n",
        "fig, axs = plt.subplots(1, 2, figsize=(12, 4))\n",
        "bcm.plot_roc_curve(ax=axs[0])\n",
        "bcm.plot_pr_curve(ax=axs[1])"
      ],
      "metadata": {
        "colab": {
          "base_uri": "https://localhost:8080/",
          "height": 349
        },
        "id": "ugITG6XOgiFz",
        "outputId": "5e9e4ca1-5442-493d-ac4d-9db81b722d28"
      },
      "execution_count": null,
      "outputs": [
        {
          "output_type": "stream",
          "name": "stdout",
          "text": [
            "Area under ROC Curve: 0.7395\n",
            "Area under PR Curve: 0.9018\n"
          ]
        },
        {
          "output_type": "execute_result",
          "data": {
            "text/plain": [
              "<matplotlib.axes._subplots.AxesSubplot at 0x7f77bbce3a60>"
            ]
          },
          "metadata": {},
          "execution_count": 43
        },
        {
          "output_type": "display_data",
          "data": {
            "text/plain": [
              "<Figure size 864x288 with 2 Axes>"
            ],
            "image/png": "[encoded data removed]"
          },
          "metadata": {
            "needs_background": "light"
          }
        }
      ]
    },
    {
      "cell_type": "markdown",
      "source": [
        "**Pipeline**"
      ],
      "metadata": {
        "id": "Z54jnfGgnKbj"
      }
    },
    {
      "cell_type": "code",
      "source": [
        "stages = []\n",
        "#Target column\n",
        "label_stringIdx = StringIndexer(inputCol = 'AQI_Bucket1', outputCol = 'label')\n",
        "stages += [label_stringIdx]\n",
        "#Numeric Columns\n",
        "numericCols = ['PM25',\n",
        " 'PM10',\n",
        " 'NO',\n",
        " 'NO2',\n",
        " 'NOx',\n",
        " 'NH3',\n",
        " 'CO',\n",
        " 'SO2',\n",
        " 'O3',\n",
        " 'Benzene',\n",
        " 'Toluene',\n",
        " 'Xylene',\n",
        " 'AQI']\n",
        "#Create a vector assembler\n",
        "assemblerInputs = numericCols \n",
        "assembler = VectorAssembler(inputCols=assemblerInputs, outputCol=\"features\").setHandleInvalid('keep')\n",
        "stages += [assembler]"
      ],
      "metadata": {
        "id": "zLxABYtMiAlx"
      },
      "execution_count": null,
      "outputs": []
    },
    {
      "cell_type": "code",
      "source": [
        "from pyspark.ml import Pipeline\n",
        "pipeline = Pipeline(stages = stages)\n",
        "pipelineModel = pipeline.fit(df1)\n",
        "df2 = pipelineModel.transform(df1)\n",
        "selectedCols = ['label', 'features'] + ['PM25',\n",
        " 'PM10',\n",
        " 'NO',\n",
        " 'NO2',\n",
        " 'NOx',\n",
        " 'NH3',\n",
        " 'CO',\n",
        " 'SO2',\n",
        " 'O3',\n",
        " 'Benzene',\n",
        " 'Toluene',\n",
        " 'Xylene',\n",
        " 'AQI',\n",
        " 'AQI_Bucket1']\n",
        "df2 = df2.select(selectedCols)\n",
        "df2.printSchema()"
      ],
      "metadata": {
        "colab": {
          "base_uri": "https://localhost:8080/"
        },
        "id": "uWapx4VRjiAf",
        "outputId": "6f0b7756-9729-4930-fc26-436696140c81"
      },
      "execution_count": null,
      "outputs": [
        {
          "output_type": "stream",
          "name": "stdout",
          "text": [
            "root\n",
            " |-- label: double (nullable = false)\n",
            " |-- features: vector (nullable = true)\n",
            " |-- PM25: double (nullable = true)\n",
            " |-- PM10: double (nullable = true)\n",
            " |-- NO: double (nullable = true)\n",
            " |-- NO2: double (nullable = true)\n",
            " |-- NOx: double (nullable = true)\n",
            " |-- NH3: double (nullable = true)\n",
            " |-- CO: double (nullable = true)\n",
            " |-- SO2: double (nullable = true)\n",
            " |-- O3: double (nullable = true)\n",
            " |-- Benzene: double (nullable = true)\n",
            " |-- Toluene: double (nullable = true)\n",
            " |-- Xylene: double (nullable = true)\n",
            " |-- AQI: double (nullable = true)\n",
            " |-- AQI_Bucket1: double (nullable = false)\n",
            "\n"
          ]
        }
      ]
    },
    {
      "cell_type": "code",
      "source": [
        "train_data,test_data = df2.randomSplit([0.7,0.3],seed = 2018)"
      ],
      "metadata": {
        "id": "uAvsmPGDj9yj"
      },
      "execution_count": null,
      "outputs": []
    },
    {
      "cell_type": "code",
      "source": [
        "from pyspark.ml.classification import DecisionTreeClassifier\n",
        "\n",
        "# train our model using training data\n",
        "pl_dt = DecisionTreeClassifier(labelCol=\"AQI_Bucket1\", featuresCol=\"features\")\n",
        "pl_model = pl_dt.fit(train_data)\n",
        "# test our model and make predictions using testing data\n",
        "pl_predictions = pl_model.transform(test_data)\n",
        "pl_predictions.select(\"prediction\", \"AQI_Bucket1\").show(5)"
      ],
      "metadata": {
        "colab": {
          "base_uri": "https://localhost:8080/"
        },
        "id": "jXyKI7dnkwz-",
        "outputId": "6c59702f-18d5-4616-bd4a-4e4a61627f62"
      },
      "execution_count": null,
      "outputs": [
        {
          "output_type": "stream",
          "name": "stdout",
          "text": [
            "+----------+-----------+\n",
            "|prediction|AQI_Bucket1|\n",
            "+----------+-----------+\n",
            "|       0.0|        0.0|\n",
            "|       0.0|        0.0|\n",
            "|       0.0|        0.0|\n",
            "|       0.0|        0.0|\n",
            "|       0.0|        0.0|\n",
            "+----------+-----------+\n",
            "only showing top 5 rows\n",
            "\n"
          ]
        }
      ]
    },
    {
      "cell_type": "code",
      "source": [
        "from pyspark.ml.evaluation import MulticlassClassificationEvaluator\n",
        "\n",
        "\n",
        "multi_evaluator = MulticlassClassificationEvaluator(labelCol = 'AQI_Bucket1', metricName = 'accuracy')\n",
        "print('Accuracy:', multi_evaluator.evaluate(pl_predictions))"
      ],
      "metadata": {
        "colab": {
          "base_uri": "https://localhost:8080/"
        },
        "id": "WnEuvXoWkzy-",
        "outputId": "5ebdd07b-a471-43f8-fd37-fbb213c70769"
      },
      "execution_count": null,
      "outputs": [
        {
          "output_type": "stream",
          "name": "stdout",
          "text": [
            "Accuracy: 0.9471600846911534\n"
          ]
        }
      ]
    },
    {
      "cell_type": "code",
      "source": [
        "from sklearn.metrics import confusion_matrix\n",
        "\n",
        "y_pred=pl_predictions.select(\"prediction\").collect()\n",
        "y_orig=pl_predictions.select(\"AQI_Bucket1\").collect()\n",
        "\n",
        "cm = confusion_matrix(y_orig, y_pred)\n",
        "print(\"Confusion Matrix:\")\n",
        "print(cm) "
      ],
      "metadata": {
        "colab": {
          "base_uri": "https://localhost:8080/"
        },
        "id": "s1iqdVCXk2Bm",
        "outputId": "c8ead770-abad-4308-e16e-b70079c4f006"
      },
      "execution_count": null,
      "outputs": [
        {
          "output_type": "stream",
          "name": "stdout",
          "text": [
            "Confusion Matrix:\n",
            "[[58133  1394     0     0     0     0]\n",
            " [    0 57017     0     0     0     0]\n",
            " [ 2277     0 15526  2233     0     0]\n",
            " [    0     0     0 17218     0     0]\n",
            " [    0   916     0     0 10817     0]\n",
            " [    0     0     0  2364     0  5913]]\n"
          ]
        }
      ]
    },
    {
      "cell_type": "code",
      "source": [
        "from handyspark import *\n",
        "import matplotlib.pyplot as plt\n",
        "\n",
        "# Creates instance of extended version of BinaryClassificationMetrics\n",
        "# using a DataFrame and its probability and label columns, as the output\n",
        "# from the classifier\n",
        "bcm = BinaryClassificationMetrics(pl_predictions, scoreCol='probability', labelCol='AQI_Bucket1')\n",
        "# Get metrics from evaluator\n",
        "print(\"Area under ROC Curve: {:.4f}\".format(bcm.areaUnderROC))\n",
        "print(\"Area under PR Curve: {:.4f}\".format(bcm.areaUnderPR))\n",
        "# Plot both ROC and PR curves\n",
        "fig, axs = plt.subplots(1, 2, figsize=(12, 4))\n",
        "bcm.plot_roc_curve(ax=axs[0])\n",
        "bcm.plot_pr_curve(ax=axs[1])"
      ],
      "metadata": {
        "colab": {
          "base_uri": "https://localhost:8080/",
          "height": 349
        },
        "id": "ZAX8lYFVk-H2",
        "outputId": "512b9fb3-b8a4-4098-b18b-9eebe9f9d2e3"
      },
      "execution_count": null,
      "outputs": [
        {
          "output_type": "stream",
          "name": "stdout",
          "text": [
            "Area under ROC Curve: 0.7418\n",
            "Area under PR Curve: 0.8979\n"
          ]
        },
        {
          "output_type": "execute_result",
          "data": {
            "text/plain": [
              "<matplotlib.axes._subplots.AxesSubplot at 0x7f77baf8e0d0>"
            ]
          },
          "metadata": {},
          "execution_count": 51
        },
        {
          "output_type": "display_data",
          "data": {
            "text/plain": [
              "<Figure size 864x288 with 2 Axes>"
            ],
            "image/png": "[encoded data removed]"
          },
          "metadata": {
            "needs_background": "light"
          }
        }
      ]
    },
    {
      "cell_type": "markdown",
      "source": [
        "**Hyper parameter Tunning**"
      ],
      "metadata": {
        "id": "_cTMDOlZnRTb"
      }
    },
    {
      "cell_type": "code",
      "source": [
        "from pyspark.ml.tuning import ParamGridBuilder\n",
        "from pyspark.ml.evaluation import BinaryClassificationEvaluator\n",
        "import numpy as np\n",
        "from pyspark.ml.tuning import CrossValidator\n",
        "\n",
        "\n",
        "paramGrid_rf = ParamGridBuilder() \\\n",
        "    .addGrid(dt.maxDepth, [int(x) for x in np.arange(10,11,10)]) \\\n",
        "    .addGrid(dt.impurity, [x for x in ['gini','entropy']]) \\\n",
        "    .addGrid(dt.maxBins, [int(x) for x in np.arange(22, 42, 10)]) \\\n",
        "    .build()\n",
        "evaluator = BinaryClassificationEvaluator()\n",
        "ds_crossval = CrossValidator(estimator=pl_dt,\n",
        "                          estimatorParamMaps=paramGrid_rf,\n",
        "                          evaluator=evaluator,\n",
        "                          numFolds=3)\n",
        "ds_cvModel = ds_crossval.fit(train_data)\n",
        "predictions_ds_cv = ds_cvModel.transform(test_data)"
      ],
      "metadata": {
        "id": "cckkB-ZSlGFi"
      },
      "execution_count": null,
      "outputs": []
    },
    {
      "cell_type": "code",
      "source": [
        "bcm = BinaryClassificationMetrics(predictions_ds_cv, scoreCol='probability', labelCol='AQI_Bucket1')\n",
        "# Get metrics from evaluator\n",
        "print(\"Area under ROC Curve: {:.4f}\".format(bcm.areaUnderROC))\n",
        "print(\"Area under PR Curve: {:.4f}\".format(bcm.areaUnderPR))\n",
        "# Plot both ROC and PR curves\n",
        "fig, axs = plt.subplots(1, 2, figsize=(12, 4))\n",
        "bcm.plot_roc_curve(ax=axs[0])\n",
        "bcm.plot_pr_curve(ax=axs[1])"
      ],
      "metadata": {
        "colab": {
          "base_uri": "https://localhost:8080/",
          "height": 349
        },
        "id": "0GZZh2Ttlo2S",
        "outputId": "6b844164-79e7-4d61-bba4-5cfb9ea49a2f"
      },
      "execution_count": null,
      "outputs": [
        {
          "output_type": "stream",
          "name": "stdout",
          "text": [
            "Area under ROC Curve: 0.7418\n",
            "Area under PR Curve: 0.8979\n"
          ]
        },
        {
          "output_type": "execute_result",
          "data": {
            "text/plain": [
              "<matplotlib.axes._subplots.AxesSubplot at 0x7f77bb5355b0>"
            ]
          },
          "metadata": {},
          "execution_count": 53
        },
        {
          "output_type": "display_data",
          "data": {
            "text/plain": [
              "<Figure size 864x288 with 2 Axes>"
            ],
            "image/png": "[encoded data removed]"
          },
          "metadata": {
            "needs_background": "light"
          }
        }
      ]
    },
    {
      "cell_type": "code",
      "source": [],
      "metadata": {
        "id": "p779mcm2JwRj"
      },
      "execution_count": null,
      "outputs": []
    },
    {
      "cell_type": "markdown",
      "source": [
        "**Naive Bayes**"
      ],
      "metadata": {
        "id": "Gr3ozNdMJ-Jb"
      }
    },
    {
      "cell_type": "code",
      "source": [
        "train_data,test_data = finalized_data.randomSplit([0.7,0.3],seed=123)"
      ],
      "metadata": {
        "id": "qnKsn_-jKDaI"
      },
      "execution_count": null,
      "outputs": []
    },
    {
      "cell_type": "code",
      "source": [
        "from pyspark.ml.classification import NaiveBayes \n",
        "\n",
        "nb = NaiveBayes(labelCol=\"AQI_Bucket1\", featuresCol=\"features\",modelType=\"multinomial\")"
      ],
      "metadata": {
        "id": "zE6mq7J9KIZs"
      },
      "execution_count": null,
      "outputs": []
    },
    {
      "cell_type": "code",
      "source": [
        "model_nb = nb.fit(train_data)\n",
        "# test our model and make predictions using testing data\n",
        "predictions_nb = model_nb.transform(test_data)\n",
        "predictions_nb.select(\"prediction\", \"AQI_Bucket1\").show(5)"
      ],
      "metadata": {
        "colab": {
          "base_uri": "https://localhost:8080/"
        },
        "id": "DikSuUlVKMcV",
        "outputId": "8558b96a-e432-47cc-894c-e66d66ca8951"
      },
      "execution_count": null,
      "outputs": [
        {
          "output_type": "stream",
          "name": "stdout",
          "text": [
            "+----------+-----------+\n",
            "|prediction|AQI_Bucket1|\n",
            "+----------+-----------+\n",
            "|       1.0|        0.0|\n",
            "|       4.0|        4.0|\n",
            "|       5.0|        2.0|\n",
            "|       1.0|        4.0|\n",
            "|       1.0|        1.0|\n",
            "+----------+-----------+\n",
            "only showing top 5 rows\n",
            "\n"
          ]
        }
      ]
    },
    {
      "cell_type": "code",
      "source": [
        "from pyspark.ml.evaluation import MulticlassClassificationEvaluator\n",
        "\n",
        "\n",
        "multi_evaluator = MulticlassClassificationEvaluator(labelCol = 'AQI_Bucket1', metricName = 'accuracy')\n",
        "print('Accuracy:', multi_evaluator.evaluate(predictions_nb))"
      ],
      "metadata": {
        "colab": {
          "base_uri": "https://localhost:8080/"
        },
        "id": "FcRgmZRXKdMf",
        "outputId": "f9fd1b79-b1a7-40f0-b850-9818bbae7bb2"
      },
      "execution_count": null,
      "outputs": [
        {
          "output_type": "stream",
          "name": "stdout",
          "text": [
            "Accuracy: 0.39183205138554145\n"
          ]
        }
      ]
    },
    {
      "cell_type": "code",
      "source": [
        "from sklearn.metrics import confusion_matrix\n",
        "\n",
        "y_pred=predictions_nb.select(\"prediction\").collect()\n",
        "y_orig=predictions_nb.select(\"AQI_Bucket1\").collect()\n",
        "\n",
        "cm = confusion_matrix(y_orig, y_pred)\n",
        "print(\"Confusion Matrix:\")\n",
        "print(cm) "
      ],
      "metadata": {
        "colab": {
          "base_uri": "https://localhost:8080/"
        },
        "id": "yGQafhBtKiTb",
        "outputId": "ea08a4ff-30df-4365-db07-a24f3a955c2f"
      },
      "execution_count": null,
      "outputs": [
        {
          "output_type": "stream",
          "name": "stdout",
          "text": [
            "Confusion Matrix:\n",
            "[[23471 13241 11404  5651  4684  1525]\n",
            " [20721 23114  2896  2133  7206   649]\n",
            " [ 4355  1188  6169  5248   557  2448]\n",
            " [ 1563   249  3572  6791   127  4657]\n",
            " [ 2347  5334    86   163  3600    16]\n",
            " [  375    47   992  2034     9  4812]]\n"
          ]
        }
      ]
    },
    {
      "cell_type": "code",
      "source": [
        "from handyspark import *\n",
        "import matplotlib.pyplot as plt\n",
        "\n",
        "# Creates instance of extended version of BinaryClassificationMetrics\n",
        "# using a DataFrame and its probability and label columns, as the output\n",
        "# from the classifier\n",
        "bcm = BinaryClassificationMetrics(predictions_nb, scoreCol='probability', labelCol='AQI_Bucket1')\n",
        "# Get metrics from evaluator\n",
        "print(\"Area under ROC Curve: {:.4f}\".format(bcm.areaUnderROC))\n",
        "print(\"Area under PR Curve: {:.4f}\".format(bcm.areaUnderPR))\n",
        "# Plot both ROC and PR curves\n",
        "fig, axs = plt.subplots(1, 2, figsize=(12, 4))\n",
        "bcm.plot_roc_curve(ax=axs[0])\n",
        "bcm.plot_pr_curve(ax=axs[1])"
      ],
      "metadata": {
        "colab": {
          "base_uri": "https://localhost:8080/",
          "height": 349
        },
        "id": "lttZhVstKnOL",
        "outputId": "df7e48f6-ca56-4e75-88dd-e116bba8a2ae"
      },
      "execution_count": null,
      "outputs": [
        {
          "output_type": "stream",
          "name": "stdout",
          "text": [
            "Area under ROC Curve: 0.4642\n",
            "Area under PR Curve: 0.6357\n"
          ]
        },
        {
          "output_type": "execute_result",
          "data": {
            "text/plain": [
              "<matplotlib.axes._subplots.AxesSubplot at 0x7f77bb547c70>"
            ]
          },
          "metadata": {},
          "execution_count": 59
        },
        {
          "output_type": "display_data",
          "data": {
            "text/plain": [
              "<Figure size 864x288 with 2 Axes>"
            ],
            "image/png": "[encoded data removed]"
          },
          "metadata": {
            "needs_background": "light"
          }
        }
      ]
    }
  ]
}